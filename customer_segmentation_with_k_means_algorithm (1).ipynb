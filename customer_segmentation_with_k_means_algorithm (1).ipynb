{
  "nbformat": 4,
  "nbformat_minor": 0,
  "metadata": {
    "kernelspec": {
      "language": "python",
      "display_name": "Python 3",
      "name": "python3"
    },
    "language_info": {
      "pygments_lexer": "ipython3",
      "nbconvert_exporter": "python",
      "version": "3.6.4",
      "file_extension": ".py",
      "codemirror_mode": {
        "name": "ipython",
        "version": 3
      },
      "name": "python",
      "mimetype": "text/x-python"
    },
    "colab": {
      "name": "customer-segmentation-with-k-means-algorithm.ipynb",
      "provenance": []
    }
  },
  "cells": [
    {
      "cell_type": "markdown",
      "metadata": {
        "id": "HyiZW0ZDw-eC"
      },
      "source": [
        "# Customer Segmentation with K-Means Algorithm"
      ]
    },
    {
      "cell_type": "markdown",
      "metadata": {
        "id": "pvXGnx-Lw-eN"
      },
      "source": [
        "# Business Problem \n",
        "\n",
        "\n",
        "An e-commerce company wants to segment its customers and determine marketing strategies according to these segments.\n",
        "\n",
        "For this, we will define the behavior of customers and create groups according to the clusters in these behaviors.\n",
        "\n",
        "In other words, we will take those who exhibit common behaviors into the same groups and we will try to develop sales and marketing specific techniques to these groups.\n",
        "\n",
        "\n",
        "### **Data Set Information**\n",
        "\n",
        "This Online Retail II data set contains all the transactions occurring for a UK-based and registered, non-store online retail between 01/12/2009 and 09/12/2011.The company mainly sells unique all-occasion gift-ware. Many customers of the company are wholesalers.\n",
        "\n",
        "### **Attribute Information**\n",
        "\n",
        "- **InvoiceNo**: Invoice number. Nominal. A 6-digit integral number uniquely assigned to each transaction. If this code starts with the letter 'c', it indicates a cancellation.\n",
        "- **StockCode**: Product (item) code. Nominal. A 5-digit integral number uniquely assigned to each distinct product.\n",
        "- **Description**: Product (item) name. Nominal.\n",
        "- **Quantity**: The quantities of each product (item) per transaction. Numeric.\n",
        "- **InvoiceDate**: Invice date and time. Numeric. The day and time when a transaction was generated.\n",
        "- **UnitPrice**: Unit price. Numeric. Product price per unit in sterling (Â£).\n",
        "- **CustomerID**: Customer number. Nominal. A 5-digit integral number uniquely assigned to each customer.\n",
        "- **Country**: Country name. Nominal. The name of the country where a customer resides."
      ]
    },
    {
      "cell_type": "code",
      "metadata": {
        "id": "s96ziVJmDYDV"
      },
      "source": [
        "#installation of libraries\n",
        "import pandas as pd\n",
        "import numpy as np\n",
        "import seaborn as sns\n",
        "from sklearn.cluster import KMeans\n",
        "\n",
        "#to display all columns and rows:\n",
        "pd.set_option('display.max_columns', None); pd.set_option('display.max_rows', None);\n",
        "\n",
        "#we determined how many numbers to show after comma\n",
        "pd.set_option('display.float_format', lambda x: '%.0f' % x)\n",
        "import matplotlib.pyplot as plt"
      ],
      "execution_count": 3,
      "outputs": []
    },
    {
      "cell_type": "code",
      "metadata": {
        "colab": {
          "base_uri": "https://localhost:8080/",
          "height": 0
        },
        "id": "Nz1NGpRXBk8W",
        "outputId": "95d463ed-efe3-40af-c336-1eea67378fe2"
      },
      "source": [
        "from google.colab import drive\n",
        "drive.mount('/content/gdrive')"
      ],
      "execution_count": 4,
      "outputs": [
        {
          "output_type": "stream",
          "text": [
            "Mounted at /content/gdrive\n"
          ],
          "name": "stdout"
        }
      ]
    },
    {
      "cell_type": "code",
      "metadata": {
        "id": "PeV-16Q2BlKK"
      },
      "source": [
        "import os\n",
        "os.environ['KAGGLE_CONFIG_DIR'] = \"/content/gdrive/My Drive/Kaggle\"\n",
        "# /content/gdrive/My Drive/Kaggle is the path where kaggle.json is present in the Google Drive"
      ],
      "execution_count": 5,
      "outputs": []
    },
    {
      "cell_type": "code",
      "metadata": {
        "colab": {
          "base_uri": "https://localhost:8080/",
          "height": 0
        },
        "id": "mwA8sEbhBrkm",
        "outputId": "157c0ebc-a7fb-4396-dd6f-1d4c3dc12d3d"
      },
      "source": [
        "#changing the working directory\n",
        "%cd /content/gdrive/My Drive/Kaggle\n",
        "#Check the present working directory using pwd command"
      ],
      "execution_count": 7,
      "outputs": [
        {
          "output_type": "stream",
          "text": [
            "/content/gdrive/My Drive/Kaggle\n"
          ],
          "name": "stdout"
        }
      ]
    },
    {
      "cell_type": "code",
      "metadata": {
        "colab": {
          "base_uri": "https://localhost:8080/",
          "height": 0
        },
        "id": "UIT4XQksBsdP",
        "outputId": "2e33695a-53a7-438a-89ee-9e43ad8a7415"
      },
      "source": [
        "! kaggle datasets download -d mashlyn/online-retail-ii-uci"
      ],
      "execution_count": 10,
      "outputs": [
        {
          "output_type": "stream",
          "text": [
            "Downloading online-retail-ii-uci.zip to /content/gdrive/My Drive/Kaggle\n",
            "\r  0% 0.00/14.5M [00:00<?, ?B/s]\r 34% 5.00M/14.5M [00:00<00:00, 47.0MB/s]\n",
            "\r100% 14.5M/14.5M [00:00<00:00, 70.9MB/s]\n"
          ],
          "name": "stdout"
        }
      ]
    },
    {
      "cell_type": "code",
      "metadata": {
        "colab": {
          "base_uri": "https://localhost:8080/",
          "height": 0
        },
        "id": "zvN3BZ2MDQcP",
        "outputId": "bd2d0a52-2c05-4f15-816b-25f5896795a6"
      },
      "source": [
        "#unzipping the zip files and deleting the zip files\n",
        "!unzip \\*.zip  && rm *.zip"
      ],
      "execution_count": 11,
      "outputs": [
        {
          "output_type": "stream",
          "text": [
            "Archive:  india-headlines-news-dataset.zip\n",
            "replace india-news-headlines.csv? [y]es, [n]o, [A]ll, [N]one, [r]ename: y\n",
            "  inflating: india-news-headlines.csv  \n",
            "\n",
            "Archive:  online-retail-ii-uci.zip\n",
            "  inflating: online_retail_II.csv    y\n",
            "\n",
            "\n",
            "2 archives were successfully processed.\n"
          ],
          "name": "stdout"
        }
      ]
    },
    {
      "cell_type": "code",
      "metadata": {
        "trusted": true,
        "id": "7c6YpV53w-eO"
      },
      "source": [
        "# Code to read csv file into Colaboratory:\n",
        "!pip install -U -q PyDrive\n",
        "from pydrive.auth import GoogleAuth\n",
        "from pydrive.drive import GoogleDrive\n",
        "from google.colab import auth\n",
        "from oauth2client.client import GoogleCredentials\n",
        "# Authenticate and create the PyDrive client.\n",
        "auth.authenticate_user()\n",
        "gauth = GoogleAuth()\n",
        "gauth.credentials = GoogleCredentials.get_application_default()\n",
        "drive = GoogleDrive(gauth)"
      ],
      "execution_count": 12,
      "outputs": []
    },
    {
      "cell_type": "code",
      "metadata": {
        "id": "Htsd-WrqE0Mw"
      },
      "source": [
        "# https://drive.google.com/file/d/1-00_RK03LFOAknNs0vG9IuXpg6zDG0KU/view?usp=sharing\n",
        "fileDownloaded = drive.CreateFile({'id':'1-00_RK03LFOAknNs0vG9IuXpg6zDG0KU'})"
      ],
      "execution_count": 14,
      "outputs": []
    },
    {
      "cell_type": "code",
      "metadata": {
        "id": "P8RqBHHwFCF6"
      },
      "source": [
        "fileDownloaded.GetContentFile('online_retail.csv')"
      ],
      "execution_count": 15,
      "outputs": []
    },
    {
      "cell_type": "code",
      "metadata": {
        "trusted": true,
        "id": "DBjB4Z64w-eP"
      },
      "source": [
        "#calling the dataset\n",
        "df = pd.read_csv('online_retail.csv', delimiter=',' )"
      ],
      "execution_count": 42,
      "outputs": []
    },
    {
      "cell_type": "markdown",
      "metadata": {
        "id": "Ycn_MPYlw-eQ"
      },
      "source": [
        "# Data Understanding"
      ]
    },
    {
      "cell_type": "code",
      "metadata": {
        "trusted": true,
        "colab": {
          "base_uri": "https://localhost:8080/",
          "height": 306
        },
        "id": "Que4Mrixw-eR",
        "outputId": "e80740c8-1083-4b6b-9bd0-3675512cc423"
      },
      "source": [
        "#selection of the first 5 observations\n",
        "df.head() "
      ],
      "execution_count": 43,
      "outputs": [
        {
          "output_type": "execute_result",
          "data": {
            "text/html": [
              "<div>\n",
              "<style scoped>\n",
              "    .dataframe tbody tr th:only-of-type {\n",
              "        vertical-align: middle;\n",
              "    }\n",
              "\n",
              "    .dataframe tbody tr th {\n",
              "        vertical-align: top;\n",
              "    }\n",
              "\n",
              "    .dataframe thead th {\n",
              "        text-align: right;\n",
              "    }\n",
              "</style>\n",
              "<table border=\"1\" class=\"dataframe\">\n",
              "  <thead>\n",
              "    <tr style=\"text-align: right;\">\n",
              "      <th></th>\n",
              "      <th>Invoice</th>\n",
              "      <th>StockCode</th>\n",
              "      <th>Description</th>\n",
              "      <th>Quantity</th>\n",
              "      <th>InvoiceDate</th>\n",
              "      <th>Price</th>\n",
              "      <th>Customer ID</th>\n",
              "      <th>Country</th>\n",
              "    </tr>\n",
              "  </thead>\n",
              "  <tbody>\n",
              "    <tr>\n",
              "      <th>0</th>\n",
              "      <td>489434</td>\n",
              "      <td>85048</td>\n",
              "      <td>15CM CHRISTMAS GLASS BALL 20 LIGHTS</td>\n",
              "      <td>12</td>\n",
              "      <td>2009-12-01 07:45:00</td>\n",
              "      <td>7</td>\n",
              "      <td>13085</td>\n",
              "      <td>United Kingdom</td>\n",
              "    </tr>\n",
              "    <tr>\n",
              "      <th>1</th>\n",
              "      <td>489434</td>\n",
              "      <td>79323P</td>\n",
              "      <td>PINK CHERRY LIGHTS</td>\n",
              "      <td>12</td>\n",
              "      <td>2009-12-01 07:45:00</td>\n",
              "      <td>7</td>\n",
              "      <td>13085</td>\n",
              "      <td>United Kingdom</td>\n",
              "    </tr>\n",
              "    <tr>\n",
              "      <th>2</th>\n",
              "      <td>489434</td>\n",
              "      <td>79323W</td>\n",
              "      <td>WHITE CHERRY LIGHTS</td>\n",
              "      <td>12</td>\n",
              "      <td>2009-12-01 07:45:00</td>\n",
              "      <td>7</td>\n",
              "      <td>13085</td>\n",
              "      <td>United Kingdom</td>\n",
              "    </tr>\n",
              "    <tr>\n",
              "      <th>3</th>\n",
              "      <td>489434</td>\n",
              "      <td>22041</td>\n",
              "      <td>RECORD FRAME 7\" SINGLE SIZE</td>\n",
              "      <td>48</td>\n",
              "      <td>2009-12-01 07:45:00</td>\n",
              "      <td>2</td>\n",
              "      <td>13085</td>\n",
              "      <td>United Kingdom</td>\n",
              "    </tr>\n",
              "    <tr>\n",
              "      <th>4</th>\n",
              "      <td>489434</td>\n",
              "      <td>21232</td>\n",
              "      <td>STRAWBERRY CERAMIC TRINKET BOX</td>\n",
              "      <td>24</td>\n",
              "      <td>2009-12-01 07:45:00</td>\n",
              "      <td>1</td>\n",
              "      <td>13085</td>\n",
              "      <td>United Kingdom</td>\n",
              "    </tr>\n",
              "  </tbody>\n",
              "</table>\n",
              "</div>"
            ],
            "text/plain": [
              "  Invoice StockCode                          Description  Quantity  \\\n",
              "0  489434     85048  15CM CHRISTMAS GLASS BALL 20 LIGHTS        12   \n",
              "1  489434    79323P                   PINK CHERRY LIGHTS        12   \n",
              "2  489434    79323W                  WHITE CHERRY LIGHTS        12   \n",
              "3  489434     22041         RECORD FRAME 7\" SINGLE SIZE         48   \n",
              "4  489434     21232       STRAWBERRY CERAMIC TRINKET BOX        24   \n",
              "\n",
              "           InvoiceDate  Price  Customer ID         Country  \n",
              "0  2009-12-01 07:45:00      7        13085  United Kingdom  \n",
              "1  2009-12-01 07:45:00      7        13085  United Kingdom  \n",
              "2  2009-12-01 07:45:00      7        13085  United Kingdom  \n",
              "3  2009-12-01 07:45:00      2        13085  United Kingdom  \n",
              "4  2009-12-01 07:45:00      1        13085  United Kingdom  "
            ]
          },
          "metadata": {
            "tags": []
          },
          "execution_count": 43
        }
      ]
    },
    {
      "cell_type": "code",
      "metadata": {
        "trusted": true,
        "id": "jVDgbCBrw-eR",
        "colab": {
          "base_uri": "https://localhost:8080/",
          "height": 235
        },
        "outputId": "1270deca-f690-44c6-f868-67a93a8b569d"
      },
      "source": [
        "#ranking of the most ordered products\n",
        "df.groupby('Description').agg({\"Quantity\":\"sum\"}).sort_values(\"Quantity\", ascending = False).head()"
      ],
      "execution_count": 45,
      "outputs": [
        {
          "output_type": "execute_result",
          "data": {
            "text/html": [
              "<div>\n",
              "<style scoped>\n",
              "    .dataframe tbody tr th:only-of-type {\n",
              "        vertical-align: middle;\n",
              "    }\n",
              "\n",
              "    .dataframe tbody tr th {\n",
              "        vertical-align: top;\n",
              "    }\n",
              "\n",
              "    .dataframe thead th {\n",
              "        text-align: right;\n",
              "    }\n",
              "</style>\n",
              "<table border=\"1\" class=\"dataframe\">\n",
              "  <thead>\n",
              "    <tr style=\"text-align: right;\">\n",
              "      <th></th>\n",
              "      <th>Quantity</th>\n",
              "    </tr>\n",
              "    <tr>\n",
              "      <th>Description</th>\n",
              "      <th></th>\n",
              "    </tr>\n",
              "  </thead>\n",
              "  <tbody>\n",
              "    <tr>\n",
              "      <th>WORLD WAR 2 GLIDERS ASSTD DESIGNS</th>\n",
              "      <td>108545</td>\n",
              "    </tr>\n",
              "    <tr>\n",
              "      <th>WHITE HANGING HEART T-LIGHT HOLDER</th>\n",
              "      <td>93050</td>\n",
              "    </tr>\n",
              "    <tr>\n",
              "      <th>ASSORTED COLOUR BIRD ORNAMENT</th>\n",
              "      <td>81306</td>\n",
              "    </tr>\n",
              "    <tr>\n",
              "      <th>JUMBO BAG RED RETROSPOT</th>\n",
              "      <td>78090</td>\n",
              "    </tr>\n",
              "    <tr>\n",
              "      <th>BROCADE RING PURSE</th>\n",
              "      <td>70700</td>\n",
              "    </tr>\n",
              "  </tbody>\n",
              "</table>\n",
              "</div>"
            ],
            "text/plain": [
              "                                    Quantity\n",
              "Description                                 \n",
              "WORLD WAR 2 GLIDERS ASSTD DESIGNS     108545\n",
              "WHITE HANGING HEART T-LIGHT HOLDER     93050\n",
              "ASSORTED COLOUR BIRD ORNAMENT          81306\n",
              "JUMBO BAG RED RETROSPOT                78090\n",
              "BROCADE RING PURSE                     70700"
            ]
          },
          "metadata": {
            "tags": []
          },
          "execution_count": 45
        }
      ]
    },
    {
      "cell_type": "code",
      "metadata": {
        "trusted": true,
        "id": "v77ImY0aw-eR",
        "colab": {
          "base_uri": "https://localhost:8080/",
          "height": 0
        },
        "outputId": "52c95e48-c4cb-4025-86f7-ea0eebd26a6f"
      },
      "source": [
        "df.columns = df.columns.str.strip()#how many invoices are there in the data set\n",
        "df[\"Invoice\"].nunique()"
      ],
      "execution_count": 46,
      "outputs": [
        {
          "output_type": "execute_result",
          "data": {
            "text/plain": [
              "53628"
            ]
          },
          "metadata": {
            "tags": []
          },
          "execution_count": 46
        }
      ]
    },
    {
      "cell_type": "code",
      "metadata": {
        "trusted": true,
        "id": "v0AqogBww-eS",
        "colab": {
          "base_uri": "https://localhost:8080/",
          "height": 306
        },
        "outputId": "a90d5899-84b5-4b1d-d031-f07a9d68cd33"
      },
      "source": [
        "#which are the most expensive products\n",
        "df.sort_values(\"Price\", ascending = False).head()"
      ],
      "execution_count": 47,
      "outputs": [
        {
          "output_type": "execute_result",
          "data": {
            "text/html": [
              "<div>\n",
              "<style scoped>\n",
              "    .dataframe tbody tr th:only-of-type {\n",
              "        vertical-align: middle;\n",
              "    }\n",
              "\n",
              "    .dataframe tbody tr th {\n",
              "        vertical-align: top;\n",
              "    }\n",
              "\n",
              "    .dataframe thead th {\n",
              "        text-align: right;\n",
              "    }\n",
              "</style>\n",
              "<table border=\"1\" class=\"dataframe\">\n",
              "  <thead>\n",
              "    <tr style=\"text-align: right;\">\n",
              "      <th></th>\n",
              "      <th>Invoice</th>\n",
              "      <th>StockCode</th>\n",
              "      <th>Description</th>\n",
              "      <th>Quantity</th>\n",
              "      <th>InvoiceDate</th>\n",
              "      <th>Price</th>\n",
              "      <th>Customer ID</th>\n",
              "      <th>Country</th>\n",
              "    </tr>\n",
              "  </thead>\n",
              "  <tbody>\n",
              "    <tr>\n",
              "      <th>748142</th>\n",
              "      <td>C556445</td>\n",
              "      <td>M</td>\n",
              "      <td>Manual</td>\n",
              "      <td>-1</td>\n",
              "      <td>2011-06-10 15:31:00</td>\n",
              "      <td>38970</td>\n",
              "      <td>15098</td>\n",
              "      <td>United Kingdom</td>\n",
              "    </tr>\n",
              "    <tr>\n",
              "      <th>241827</th>\n",
              "      <td>512771</td>\n",
              "      <td>M</td>\n",
              "      <td>Manual</td>\n",
              "      <td>1</td>\n",
              "      <td>2010-06-17 16:53:00</td>\n",
              "      <td>25111</td>\n",
              "      <td>nan</td>\n",
              "      <td>United Kingdom</td>\n",
              "    </tr>\n",
              "    <tr>\n",
              "      <th>241824</th>\n",
              "      <td>C512770</td>\n",
              "      <td>M</td>\n",
              "      <td>Manual</td>\n",
              "      <td>-1</td>\n",
              "      <td>2010-06-17 16:52:00</td>\n",
              "      <td>25111</td>\n",
              "      <td>17399</td>\n",
              "      <td>United Kingdom</td>\n",
              "    </tr>\n",
              "    <tr>\n",
              "      <th>320581</th>\n",
              "      <td>C520667</td>\n",
              "      <td>BANK CHARGES</td>\n",
              "      <td>Bank Charges</td>\n",
              "      <td>-1</td>\n",
              "      <td>2010-08-27 13:42:00</td>\n",
              "      <td>18911</td>\n",
              "      <td>nan</td>\n",
              "      <td>United Kingdom</td>\n",
              "    </tr>\n",
              "    <tr>\n",
              "      <th>1050063</th>\n",
              "      <td>C580605</td>\n",
              "      <td>AMAZONFEE</td>\n",
              "      <td>AMAZON FEE</td>\n",
              "      <td>-1</td>\n",
              "      <td>2011-12-05 11:36:00</td>\n",
              "      <td>17836</td>\n",
              "      <td>nan</td>\n",
              "      <td>United Kingdom</td>\n",
              "    </tr>\n",
              "  </tbody>\n",
              "</table>\n",
              "</div>"
            ],
            "text/plain": [
              "         Invoice     StockCode   Description  Quantity          InvoiceDate  \\\n",
              "748142   C556445             M        Manual        -1  2011-06-10 15:31:00   \n",
              "241827    512771             M        Manual         1  2010-06-17 16:53:00   \n",
              "241824   C512770             M        Manual        -1  2010-06-17 16:52:00   \n",
              "320581   C520667  BANK CHARGES  Bank Charges        -1  2010-08-27 13:42:00   \n",
              "1050063  C580605     AMAZONFEE    AMAZON FEE        -1  2011-12-05 11:36:00   \n",
              "\n",
              "         Price  Customer ID         Country  \n",
              "748142   38970        15098  United Kingdom  \n",
              "241827   25111          nan  United Kingdom  \n",
              "241824   25111        17399  United Kingdom  \n",
              "320581   18911          nan  United Kingdom  \n",
              "1050063  17836          nan  United Kingdom  "
            ]
          },
          "metadata": {
            "tags": []
          },
          "execution_count": 47
        }
      ]
    },
    {
      "cell_type": "code",
      "metadata": {
        "trusted": true,
        "id": "w67KYbQYw-eS",
        "colab": {
          "base_uri": "https://localhost:8080/",
          "height": 0
        },
        "outputId": "1d77fb36-36f7-4979-a630-891a49736bf7"
      },
      "source": [
        "#top 5 countries with the highest number of orders\n",
        "df[\"Country\"].value_counts().head()"
      ],
      "execution_count": 48,
      "outputs": [
        {
          "output_type": "execute_result",
          "data": {
            "text/plain": [
              "United Kingdom    981330\n",
              "EIRE               17866\n",
              "Germany            17624\n",
              "France             14330\n",
              "Netherlands         5140\n",
              "Name: Country, dtype: int64"
            ]
          },
          "metadata": {
            "tags": []
          },
          "execution_count": 48
        }
      ]
    },
    {
      "cell_type": "code",
      "metadata": {
        "trusted": true,
        "id": "79y9me_Yw-eS"
      },
      "source": [
        "#total spending was added as a column\n",
        "df['TotalPrice'] = df['Price']*df['Quantity']"
      ],
      "execution_count": 49,
      "outputs": []
    },
    {
      "cell_type": "code",
      "metadata": {
        "trusted": true,
        "id": "eN3KlU7kw-eT",
        "colab": {
          "base_uri": "https://localhost:8080/",
          "height": 235
        },
        "outputId": "9ed1b7ef-d833-449d-d943-b22379686050"
      },
      "source": [
        "#which countries did we get the most income from\n",
        "df.groupby(\"Country\").agg({\"TotalPrice\":\"sum\"}).sort_values(\"TotalPrice\", ascending = False).head()"
      ],
      "execution_count": 50,
      "outputs": [
        {
          "output_type": "execute_result",
          "data": {
            "text/html": [
              "<div>\n",
              "<style scoped>\n",
              "    .dataframe tbody tr th:only-of-type {\n",
              "        vertical-align: middle;\n",
              "    }\n",
              "\n",
              "    .dataframe tbody tr th {\n",
              "        vertical-align: top;\n",
              "    }\n",
              "\n",
              "    .dataframe thead th {\n",
              "        text-align: right;\n",
              "    }\n",
              "</style>\n",
              "<table border=\"1\" class=\"dataframe\">\n",
              "  <thead>\n",
              "    <tr style=\"text-align: right;\">\n",
              "      <th></th>\n",
              "      <th>TotalPrice</th>\n",
              "    </tr>\n",
              "    <tr>\n",
              "      <th>Country</th>\n",
              "      <th></th>\n",
              "    </tr>\n",
              "  </thead>\n",
              "  <tbody>\n",
              "    <tr>\n",
              "      <th>United Kingdom</th>\n",
              "      <td>16382584</td>\n",
              "    </tr>\n",
              "    <tr>\n",
              "      <th>EIRE</th>\n",
              "      <td>615520</td>\n",
              "    </tr>\n",
              "    <tr>\n",
              "      <th>Netherlands</th>\n",
              "      <td>548525</td>\n",
              "    </tr>\n",
              "    <tr>\n",
              "      <th>Germany</th>\n",
              "      <td>417989</td>\n",
              "    </tr>\n",
              "    <tr>\n",
              "      <th>France</th>\n",
              "      <td>328192</td>\n",
              "    </tr>\n",
              "  </tbody>\n",
              "</table>\n",
              "</div>"
            ],
            "text/plain": [
              "                TotalPrice\n",
              "Country                   \n",
              "United Kingdom    16382584\n",
              "EIRE                615520\n",
              "Netherlands         548525\n",
              "Germany             417989\n",
              "France              328192"
            ]
          },
          "metadata": {
            "tags": []
          },
          "execution_count": 50
        }
      ]
    },
    {
      "cell_type": "markdown",
      "metadata": {
        "id": "YODb3RL0w-eT"
      },
      "source": [
        "# Data Preparation"
      ]
    },
    {
      "cell_type": "code",
      "metadata": {
        "trusted": true,
        "id": "ijgEmhrqw-eT",
        "colab": {
          "base_uri": "https://localhost:8080/",
          "height": 35
        },
        "outputId": "5cee1f93-5004-4fbe-8391-6c4a6133a6c8"
      },
      "source": [
        "#oldest shopping date\n",
        "df[\"InvoiceDate\"].min() "
      ],
      "execution_count": 51,
      "outputs": [
        {
          "output_type": "execute_result",
          "data": {
            "application/vnd.google.colaboratory.intrinsic+json": {
              "type": "string"
            },
            "text/plain": [
              "'2009-12-01 07:45:00'"
            ]
          },
          "metadata": {
            "tags": []
          },
          "execution_count": 51
        }
      ]
    },
    {
      "cell_type": "code",
      "metadata": {
        "trusted": true,
        "id": "ssTQ5atJw-eU",
        "colab": {
          "base_uri": "https://localhost:8080/",
          "height": 35
        },
        "outputId": "4cd38a76-9bc7-41a8-c878-9a289a97f9b2"
      },
      "source": [
        "#newest shopping date\n",
        "df[\"InvoiceDate\"].max() "
      ],
      "execution_count": 52,
      "outputs": [
        {
          "output_type": "execute_result",
          "data": {
            "application/vnd.google.colaboratory.intrinsic+json": {
              "type": "string"
            },
            "text/plain": [
              "'2011-12-09 12:50:00'"
            ]
          },
          "metadata": {
            "tags": []
          },
          "execution_count": 52
        }
      ]
    },
    {
      "cell_type": "code",
      "metadata": {
        "trusted": true,
        "id": "itrRKybVw-eU",
        "colab": {
          "base_uri": "https://localhost:8080/",
          "height": 0
        },
        "outputId": "608ec337-c0a2-43cc-c16f-d6bfb205ce3c"
      },
      "source": [
        "#to make the assessment easier, today's date is set as January 1, 2012.  \n",
        "today = pd.datetime(2012,1,1) \n",
        "today"
      ],
      "execution_count": 53,
      "outputs": [
        {
          "output_type": "stream",
          "text": [
            "/usr/local/lib/python3.7/dist-packages/ipykernel_launcher.py:2: FutureWarning: The pandas.datetime class is deprecated and will be removed from pandas in a future version. Import from datetime module instead.\n",
            "  \n"
          ],
          "name": "stderr"
        },
        {
          "output_type": "execute_result",
          "data": {
            "text/plain": [
              "datetime.datetime(2012, 1, 1, 0, 0)"
            ]
          },
          "metadata": {
            "tags": []
          },
          "execution_count": 53
        }
      ]
    },
    {
      "cell_type": "code",
      "metadata": {
        "trusted": true,
        "id": "XtiFU737w-eU"
      },
      "source": [
        "#changing the data type of the order date\n",
        "df['InvoiceDate'] = pd.to_datetime(df['InvoiceDate'])"
      ],
      "execution_count": 54,
      "outputs": []
    },
    {
      "cell_type": "code",
      "metadata": {
        "trusted": true,
        "id": "g2Mz8oSDw-eU"
      },
      "source": [
        "#taking values greater than 0, this will be easier in terms of evaluation\n",
        "df = df[df['Quantity'] > 0]\n",
        "df = df[df['TotalPrice'] > 0]"
      ],
      "execution_count": 55,
      "outputs": []
    },
    {
      "cell_type": "code",
      "metadata": {
        "trusted": true,
        "id": "wXD5pmAGw-eV"
      },
      "source": [
        "#removal of observation units with missing data from df\n",
        "df.dropna(inplace = True) "
      ],
      "execution_count": 56,
      "outputs": []
    },
    {
      "cell_type": "code",
      "metadata": {
        "trusted": true,
        "id": "fpNjfneKw-eV",
        "colab": {
          "base_uri": "https://localhost:8080/",
          "height": 0
        },
        "outputId": "4139524e-d7e3-4d4c-c729-d13354d53869"
      },
      "source": [
        "#check for missing values in the dataset\n",
        "df.isnull().sum(axis=0)"
      ],
      "execution_count": 57,
      "outputs": [
        {
          "output_type": "execute_result",
          "data": {
            "text/plain": [
              "Invoice        0\n",
              "StockCode      0\n",
              "Description    0\n",
              "Quantity       0\n",
              "InvoiceDate    0\n",
              "Price          0\n",
              "Customer ID    0\n",
              "Country        0\n",
              "TotalPrice     0\n",
              "dtype: int64"
            ]
          },
          "metadata": {
            "tags": []
          },
          "execution_count": 57
        }
      ]
    },
    {
      "cell_type": "code",
      "metadata": {
        "trusted": true,
        "id": "vIuS0P8Jw-eV",
        "colab": {
          "base_uri": "https://localhost:8080/",
          "height": 0
        },
        "outputId": "527ccfdb-3675-4112-cede-32058bdb7427"
      },
      "source": [
        "#size information\n",
        "df.shape "
      ],
      "execution_count": 58,
      "outputs": [
        {
          "output_type": "execute_result",
          "data": {
            "text/plain": [
              "(805549, 9)"
            ]
          },
          "metadata": {
            "tags": []
          },
          "execution_count": 58
        }
      ]
    },
    {
      "cell_type": "code",
      "metadata": {
        "trusted": true,
        "id": "0SE7St7Iw-eV",
        "colab": {
          "base_uri": "https://localhost:8080/",
          "height": 190
        },
        "outputId": "af60adcc-cf85-4325-8df3-46f7746dc69c"
      },
      "source": [
        "df.describe([0.01,0.05,0.10,0.25,0.50,0.75,0.90,0.95, 0.99]).T\n",
        "#explanatory statistics values of the observation units corresponding to the specified percentages\n",
        "#processing according to numerical variables"
      ],
      "execution_count": 59,
      "outputs": [
        {
          "output_type": "execute_result",
          "data": {
            "text/html": [
              "<div>\n",
              "<style scoped>\n",
              "    .dataframe tbody tr th:only-of-type {\n",
              "        vertical-align: middle;\n",
              "    }\n",
              "\n",
              "    .dataframe tbody tr th {\n",
              "        vertical-align: top;\n",
              "    }\n",
              "\n",
              "    .dataframe thead th {\n",
              "        text-align: right;\n",
              "    }\n",
              "</style>\n",
              "<table border=\"1\" class=\"dataframe\">\n",
              "  <thead>\n",
              "    <tr style=\"text-align: right;\">\n",
              "      <th></th>\n",
              "      <th>count</th>\n",
              "      <th>mean</th>\n",
              "      <th>std</th>\n",
              "      <th>min</th>\n",
              "      <th>1%</th>\n",
              "      <th>5%</th>\n",
              "      <th>10%</th>\n",
              "      <th>25%</th>\n",
              "      <th>50%</th>\n",
              "      <th>75%</th>\n",
              "      <th>90%</th>\n",
              "      <th>95%</th>\n",
              "      <th>99%</th>\n",
              "      <th>max</th>\n",
              "    </tr>\n",
              "  </thead>\n",
              "  <tbody>\n",
              "    <tr>\n",
              "      <th>Quantity</th>\n",
              "      <td>805549</td>\n",
              "      <td>13</td>\n",
              "      <td>144</td>\n",
              "      <td>1</td>\n",
              "      <td>1</td>\n",
              "      <td>1</td>\n",
              "      <td>1</td>\n",
              "      <td>2</td>\n",
              "      <td>5</td>\n",
              "      <td>12</td>\n",
              "      <td>24</td>\n",
              "      <td>36</td>\n",
              "      <td>128</td>\n",
              "      <td>80995</td>\n",
              "    </tr>\n",
              "    <tr>\n",
              "      <th>Price</th>\n",
              "      <td>805549</td>\n",
              "      <td>3</td>\n",
              "      <td>29</td>\n",
              "      <td>0</td>\n",
              "      <td>0</td>\n",
              "      <td>0</td>\n",
              "      <td>1</td>\n",
              "      <td>1</td>\n",
              "      <td>2</td>\n",
              "      <td>4</td>\n",
              "      <td>7</td>\n",
              "      <td>8</td>\n",
              "      <td>15</td>\n",
              "      <td>10954</td>\n",
              "    </tr>\n",
              "    <tr>\n",
              "      <th>Customer ID</th>\n",
              "      <td>805549</td>\n",
              "      <td>15332</td>\n",
              "      <td>1697</td>\n",
              "      <td>12346</td>\n",
              "      <td>12422</td>\n",
              "      <td>12681</td>\n",
              "      <td>12979</td>\n",
              "      <td>13982</td>\n",
              "      <td>15271</td>\n",
              "      <td>16805</td>\n",
              "      <td>17716</td>\n",
              "      <td>17913</td>\n",
              "      <td>18204</td>\n",
              "      <td>18287</td>\n",
              "    </tr>\n",
              "    <tr>\n",
              "      <th>TotalPrice</th>\n",
              "      <td>805549</td>\n",
              "      <td>22</td>\n",
              "      <td>224</td>\n",
              "      <td>0</td>\n",
              "      <td>1</td>\n",
              "      <td>1</td>\n",
              "      <td>2</td>\n",
              "      <td>5</td>\n",
              "      <td>12</td>\n",
              "      <td>20</td>\n",
              "      <td>35</td>\n",
              "      <td>68</td>\n",
              "      <td>202</td>\n",
              "      <td>168470</td>\n",
              "    </tr>\n",
              "  </tbody>\n",
              "</table>\n",
              "</div>"
            ],
            "text/plain": [
              "             count  mean  std   min    1%    5%   10%   25%   50%   75%   90%  \\\n",
              "Quantity    805549    13  144     1     1     1     1     2     5    12    24   \n",
              "Price       805549     3   29     0     0     0     1     1     2     4     7   \n",
              "Customer ID 805549 15332 1697 12346 12422 12681 12979 13982 15271 16805 17716   \n",
              "TotalPrice  805549    22  224     0     1     1     2     5    12    20    35   \n",
              "\n",
              "              95%   99%    max  \n",
              "Quantity       36   128  80995  \n",
              "Price           8    15  10954  \n",
              "Customer ID 17913 18204  18287  \n",
              "TotalPrice     68   202 168470  "
            ]
          },
          "metadata": {
            "tags": []
          },
          "execution_count": 59
        }
      ]
    },
    {
      "cell_type": "code",
      "metadata": {
        "trusted": true,
        "id": "PkK9HQZAw-eW",
        "colab": {
          "base_uri": "https://localhost:8080/",
          "height": 1320
        },
        "outputId": "1bac2e4a-b992-46d1-8c3b-9600b77d5538"
      },
      "source": [
        "#customer distribution by country\n",
        "country_cust_data=df[['Country','Customer ID']].drop_duplicates()\n",
        "country_cust_data.groupby(['Country'])['Customer ID'].aggregate('count').reset_index().sort_values('Customer ID', ascending=False)"
      ],
      "execution_count": 60,
      "outputs": [
        {
          "output_type": "execute_result",
          "data": {
            "text/html": [
              "<div>\n",
              "<style scoped>\n",
              "    .dataframe tbody tr th:only-of-type {\n",
              "        vertical-align: middle;\n",
              "    }\n",
              "\n",
              "    .dataframe tbody tr th {\n",
              "        vertical-align: top;\n",
              "    }\n",
              "\n",
              "    .dataframe thead th {\n",
              "        text-align: right;\n",
              "    }\n",
              "</style>\n",
              "<table border=\"1\" class=\"dataframe\">\n",
              "  <thead>\n",
              "    <tr style=\"text-align: right;\">\n",
              "      <th></th>\n",
              "      <th>Country</th>\n",
              "      <th>Customer ID</th>\n",
              "    </tr>\n",
              "  </thead>\n",
              "  <tbody>\n",
              "    <tr>\n",
              "      <th>38</th>\n",
              "      <td>United Kingdom</td>\n",
              "      <td>5350</td>\n",
              "    </tr>\n",
              "    <tr>\n",
              "      <th>14</th>\n",
              "      <td>Germany</td>\n",
              "      <td>107</td>\n",
              "    </tr>\n",
              "    <tr>\n",
              "      <th>13</th>\n",
              "      <td>France</td>\n",
              "      <td>95</td>\n",
              "    </tr>\n",
              "    <tr>\n",
              "      <th>32</th>\n",
              "      <td>Spain</td>\n",
              "      <td>41</td>\n",
              "    </tr>\n",
              "    <tr>\n",
              "      <th>3</th>\n",
              "      <td>Belgium</td>\n",
              "      <td>29</td>\n",
              "    </tr>\n",
              "    <tr>\n",
              "      <th>28</th>\n",
              "      <td>Portugal</td>\n",
              "      <td>24</td>\n",
              "    </tr>\n",
              "    <tr>\n",
              "      <th>24</th>\n",
              "      <td>Netherlands</td>\n",
              "      <td>22</td>\n",
              "    </tr>\n",
              "    <tr>\n",
              "      <th>34</th>\n",
              "      <td>Switzerland</td>\n",
              "      <td>22</td>\n",
              "    </tr>\n",
              "    <tr>\n",
              "      <th>33</th>\n",
              "      <td>Sweden</td>\n",
              "      <td>19</td>\n",
              "    </tr>\n",
              "    <tr>\n",
              "      <th>18</th>\n",
              "      <td>Italy</td>\n",
              "      <td>17</td>\n",
              "    </tr>\n",
              "    <tr>\n",
              "      <th>0</th>\n",
              "      <td>Australia</td>\n",
              "      <td>15</td>\n",
              "    </tr>\n",
              "    <tr>\n",
              "      <th>12</th>\n",
              "      <td>Finland</td>\n",
              "      <td>14</td>\n",
              "    </tr>\n",
              "    <tr>\n",
              "      <th>1</th>\n",
              "      <td>Austria</td>\n",
              "      <td>13</td>\n",
              "    </tr>\n",
              "    <tr>\n",
              "      <th>6</th>\n",
              "      <td>Channel Islands</td>\n",
              "      <td>13</td>\n",
              "    </tr>\n",
              "    <tr>\n",
              "      <th>26</th>\n",
              "      <td>Norway</td>\n",
              "      <td>13</td>\n",
              "    </tr>\n",
              "    <tr>\n",
              "      <th>9</th>\n",
              "      <td>Denmark</td>\n",
              "      <td>12</td>\n",
              "    </tr>\n",
              "    <tr>\n",
              "      <th>7</th>\n",
              "      <td>Cyprus</td>\n",
              "      <td>11</td>\n",
              "    </tr>\n",
              "    <tr>\n",
              "      <th>19</th>\n",
              "      <td>Japan</td>\n",
              "      <td>10</td>\n",
              "    </tr>\n",
              "    <tr>\n",
              "      <th>36</th>\n",
              "      <td>USA</td>\n",
              "      <td>9</td>\n",
              "    </tr>\n",
              "    <tr>\n",
              "      <th>27</th>\n",
              "      <td>Poland</td>\n",
              "      <td>6</td>\n",
              "    </tr>\n",
              "    <tr>\n",
              "      <th>39</th>\n",
              "      <td>Unspecified</td>\n",
              "      <td>6</td>\n",
              "    </tr>\n",
              "    <tr>\n",
              "      <th>10</th>\n",
              "      <td>EIRE</td>\n",
              "      <td>5</td>\n",
              "    </tr>\n",
              "    <tr>\n",
              "      <th>15</th>\n",
              "      <td>Greece</td>\n",
              "      <td>5</td>\n",
              "    </tr>\n",
              "    <tr>\n",
              "      <th>5</th>\n",
              "      <td>Canada</td>\n",
              "      <td>5</td>\n",
              "    </tr>\n",
              "    <tr>\n",
              "      <th>17</th>\n",
              "      <td>Israel</td>\n",
              "      <td>4</td>\n",
              "    </tr>\n",
              "    <tr>\n",
              "      <th>37</th>\n",
              "      <td>United Arab Emirates</td>\n",
              "      <td>4</td>\n",
              "    </tr>\n",
              "    <tr>\n",
              "      <th>29</th>\n",
              "      <td>RSA</td>\n",
              "      <td>2</td>\n",
              "    </tr>\n",
              "    <tr>\n",
              "      <th>20</th>\n",
              "      <td>Korea</td>\n",
              "      <td>2</td>\n",
              "    </tr>\n",
              "    <tr>\n",
              "      <th>23</th>\n",
              "      <td>Malta</td>\n",
              "      <td>2</td>\n",
              "    </tr>\n",
              "    <tr>\n",
              "      <th>4</th>\n",
              "      <td>Brazil</td>\n",
              "      <td>2</td>\n",
              "    </tr>\n",
              "    <tr>\n",
              "      <th>2</th>\n",
              "      <td>Bahrain</td>\n",
              "      <td>2</td>\n",
              "    </tr>\n",
              "    <tr>\n",
              "      <th>25</th>\n",
              "      <td>Nigeria</td>\n",
              "      <td>1</td>\n",
              "    </tr>\n",
              "    <tr>\n",
              "      <th>30</th>\n",
              "      <td>Saudi Arabia</td>\n",
              "      <td>1</td>\n",
              "    </tr>\n",
              "    <tr>\n",
              "      <th>31</th>\n",
              "      <td>Singapore</td>\n",
              "      <td>1</td>\n",
              "    </tr>\n",
              "    <tr>\n",
              "      <th>22</th>\n",
              "      <td>Lithuania</td>\n",
              "      <td>1</td>\n",
              "    </tr>\n",
              "    <tr>\n",
              "      <th>21</th>\n",
              "      <td>Lebanon</td>\n",
              "      <td>1</td>\n",
              "    </tr>\n",
              "    <tr>\n",
              "      <th>16</th>\n",
              "      <td>Iceland</td>\n",
              "      <td>1</td>\n",
              "    </tr>\n",
              "    <tr>\n",
              "      <th>35</th>\n",
              "      <td>Thailand</td>\n",
              "      <td>1</td>\n",
              "    </tr>\n",
              "    <tr>\n",
              "      <th>11</th>\n",
              "      <td>European Community</td>\n",
              "      <td>1</td>\n",
              "    </tr>\n",
              "    <tr>\n",
              "      <th>8</th>\n",
              "      <td>Czech Republic</td>\n",
              "      <td>1</td>\n",
              "    </tr>\n",
              "    <tr>\n",
              "      <th>40</th>\n",
              "      <td>West Indies</td>\n",
              "      <td>1</td>\n",
              "    </tr>\n",
              "  </tbody>\n",
              "</table>\n",
              "</div>"
            ],
            "text/plain": [
              "                 Country  Customer ID\n",
              "38        United Kingdom         5350\n",
              "14               Germany          107\n",
              "13                France           95\n",
              "32                 Spain           41\n",
              "3                Belgium           29\n",
              "28              Portugal           24\n",
              "24           Netherlands           22\n",
              "34           Switzerland           22\n",
              "33                Sweden           19\n",
              "18                 Italy           17\n",
              "0              Australia           15\n",
              "12               Finland           14\n",
              "1                Austria           13\n",
              "6        Channel Islands           13\n",
              "26                Norway           13\n",
              "9                Denmark           12\n",
              "7                 Cyprus           11\n",
              "19                 Japan           10\n",
              "36                   USA            9\n",
              "27                Poland            6\n",
              "39           Unspecified            6\n",
              "10                  EIRE            5\n",
              "15                Greece            5\n",
              "5                 Canada            5\n",
              "17                Israel            4\n",
              "37  United Arab Emirates            4\n",
              "29                   RSA            2\n",
              "20                 Korea            2\n",
              "23                 Malta            2\n",
              "4                 Brazil            2\n",
              "2                Bahrain            2\n",
              "25               Nigeria            1\n",
              "30          Saudi Arabia            1\n",
              "31             Singapore            1\n",
              "22             Lithuania            1\n",
              "21               Lebanon            1\n",
              "16               Iceland            1\n",
              "35              Thailand            1\n",
              "11    European Community            1\n",
              "8         Czech Republic            1\n",
              "40           West Indies            1"
            ]
          },
          "metadata": {
            "tags": []
          },
          "execution_count": 60
        }
      ]
    },
    {
      "cell_type": "code",
      "metadata": {
        "trusted": true,
        "id": "Klma0erRw-eW",
        "colab": {
          "base_uri": "https://localhost:8080/",
          "height": 306
        },
        "outputId": "ea471c8c-99eb-4ad8-8f61-3bbf19639f69"
      },
      "source": [
        "#keep only United Kingdom data\n",
        "df_uk = df.query(\"Country=='United Kingdom'\").reset_index(drop=True)\n",
        "df_uk.head()"
      ],
      "execution_count": 61,
      "outputs": [
        {
          "output_type": "execute_result",
          "data": {
            "text/html": [
              "<div>\n",
              "<style scoped>\n",
              "    .dataframe tbody tr th:only-of-type {\n",
              "        vertical-align: middle;\n",
              "    }\n",
              "\n",
              "    .dataframe tbody tr th {\n",
              "        vertical-align: top;\n",
              "    }\n",
              "\n",
              "    .dataframe thead th {\n",
              "        text-align: right;\n",
              "    }\n",
              "</style>\n",
              "<table border=\"1\" class=\"dataframe\">\n",
              "  <thead>\n",
              "    <tr style=\"text-align: right;\">\n",
              "      <th></th>\n",
              "      <th>Invoice</th>\n",
              "      <th>StockCode</th>\n",
              "      <th>Description</th>\n",
              "      <th>Quantity</th>\n",
              "      <th>InvoiceDate</th>\n",
              "      <th>Price</th>\n",
              "      <th>Customer ID</th>\n",
              "      <th>Country</th>\n",
              "      <th>TotalPrice</th>\n",
              "    </tr>\n",
              "  </thead>\n",
              "  <tbody>\n",
              "    <tr>\n",
              "      <th>0</th>\n",
              "      <td>489434</td>\n",
              "      <td>85048</td>\n",
              "      <td>15CM CHRISTMAS GLASS BALL 20 LIGHTS</td>\n",
              "      <td>12</td>\n",
              "      <td>2009-12-01 07:45:00</td>\n",
              "      <td>7</td>\n",
              "      <td>13085</td>\n",
              "      <td>United Kingdom</td>\n",
              "      <td>83</td>\n",
              "    </tr>\n",
              "    <tr>\n",
              "      <th>1</th>\n",
              "      <td>489434</td>\n",
              "      <td>79323P</td>\n",
              "      <td>PINK CHERRY LIGHTS</td>\n",
              "      <td>12</td>\n",
              "      <td>2009-12-01 07:45:00</td>\n",
              "      <td>7</td>\n",
              "      <td>13085</td>\n",
              "      <td>United Kingdom</td>\n",
              "      <td>81</td>\n",
              "    </tr>\n",
              "    <tr>\n",
              "      <th>2</th>\n",
              "      <td>489434</td>\n",
              "      <td>79323W</td>\n",
              "      <td>WHITE CHERRY LIGHTS</td>\n",
              "      <td>12</td>\n",
              "      <td>2009-12-01 07:45:00</td>\n",
              "      <td>7</td>\n",
              "      <td>13085</td>\n",
              "      <td>United Kingdom</td>\n",
              "      <td>81</td>\n",
              "    </tr>\n",
              "    <tr>\n",
              "      <th>3</th>\n",
              "      <td>489434</td>\n",
              "      <td>22041</td>\n",
              "      <td>RECORD FRAME 7\" SINGLE SIZE</td>\n",
              "      <td>48</td>\n",
              "      <td>2009-12-01 07:45:00</td>\n",
              "      <td>2</td>\n",
              "      <td>13085</td>\n",
              "      <td>United Kingdom</td>\n",
              "      <td>101</td>\n",
              "    </tr>\n",
              "    <tr>\n",
              "      <th>4</th>\n",
              "      <td>489434</td>\n",
              "      <td>21232</td>\n",
              "      <td>STRAWBERRY CERAMIC TRINKET BOX</td>\n",
              "      <td>24</td>\n",
              "      <td>2009-12-01 07:45:00</td>\n",
              "      <td>1</td>\n",
              "      <td>13085</td>\n",
              "      <td>United Kingdom</td>\n",
              "      <td>30</td>\n",
              "    </tr>\n",
              "  </tbody>\n",
              "</table>\n",
              "</div>"
            ],
            "text/plain": [
              "  Invoice StockCode                          Description  Quantity  \\\n",
              "0  489434     85048  15CM CHRISTMAS GLASS BALL 20 LIGHTS        12   \n",
              "1  489434    79323P                   PINK CHERRY LIGHTS        12   \n",
              "2  489434    79323W                  WHITE CHERRY LIGHTS        12   \n",
              "3  489434     22041         RECORD FRAME 7\" SINGLE SIZE         48   \n",
              "4  489434     21232       STRAWBERRY CERAMIC TRINKET BOX        24   \n",
              "\n",
              "          InvoiceDate  Price  Customer ID         Country  TotalPrice  \n",
              "0 2009-12-01 07:45:00      7        13085  United Kingdom          83  \n",
              "1 2009-12-01 07:45:00      7        13085  United Kingdom          81  \n",
              "2 2009-12-01 07:45:00      7        13085  United Kingdom          81  \n",
              "3 2009-12-01 07:45:00      2        13085  United Kingdom         101  \n",
              "4 2009-12-01 07:45:00      1        13085  United Kingdom          30  "
            ]
          },
          "metadata": {
            "tags": []
          },
          "execution_count": 61
        }
      ]
    },
    {
      "cell_type": "markdown",
      "metadata": {
        "id": "u1Bm3xrzw-eW"
      },
      "source": [
        "# Finding RFM Values\n",
        "\n",
        "RFM consists of Recency, Frequency, Monetary initials of expressions.\n",
        "\n",
        "It is a technique that helps determine marketing and sales strategies based on buying habits of customers.\n",
        "\n",
        "- **Recency**: Time since customer last purchase\n",
        "\n",
        "- **Frequency**: Total number of purchases\n",
        "\n",
        "- **Monetary**: Total spending by the customer"
      ]
    },
    {
      "cell_type": "code",
      "metadata": {
        "trusted": true,
        "id": "decYhyxWw-eW",
        "colab": {
          "base_uri": "https://localhost:8080/",
          "height": 306
        },
        "outputId": "e4e331e3-98e6-4f1b-a0fa-d9452e530c1d"
      },
      "source": [
        "df.head()"
      ],
      "execution_count": 62,
      "outputs": [
        {
          "output_type": "execute_result",
          "data": {
            "text/html": [
              "<div>\n",
              "<style scoped>\n",
              "    .dataframe tbody tr th:only-of-type {\n",
              "        vertical-align: middle;\n",
              "    }\n",
              "\n",
              "    .dataframe tbody tr th {\n",
              "        vertical-align: top;\n",
              "    }\n",
              "\n",
              "    .dataframe thead th {\n",
              "        text-align: right;\n",
              "    }\n",
              "</style>\n",
              "<table border=\"1\" class=\"dataframe\">\n",
              "  <thead>\n",
              "    <tr style=\"text-align: right;\">\n",
              "      <th></th>\n",
              "      <th>Invoice</th>\n",
              "      <th>StockCode</th>\n",
              "      <th>Description</th>\n",
              "      <th>Quantity</th>\n",
              "      <th>InvoiceDate</th>\n",
              "      <th>Price</th>\n",
              "      <th>Customer ID</th>\n",
              "      <th>Country</th>\n",
              "      <th>TotalPrice</th>\n",
              "    </tr>\n",
              "  </thead>\n",
              "  <tbody>\n",
              "    <tr>\n",
              "      <th>0</th>\n",
              "      <td>489434</td>\n",
              "      <td>85048</td>\n",
              "      <td>15CM CHRISTMAS GLASS BALL 20 LIGHTS</td>\n",
              "      <td>12</td>\n",
              "      <td>2009-12-01 07:45:00</td>\n",
              "      <td>7</td>\n",
              "      <td>13085</td>\n",
              "      <td>United Kingdom</td>\n",
              "      <td>83</td>\n",
              "    </tr>\n",
              "    <tr>\n",
              "      <th>1</th>\n",
              "      <td>489434</td>\n",
              "      <td>79323P</td>\n",
              "      <td>PINK CHERRY LIGHTS</td>\n",
              "      <td>12</td>\n",
              "      <td>2009-12-01 07:45:00</td>\n",
              "      <td>7</td>\n",
              "      <td>13085</td>\n",
              "      <td>United Kingdom</td>\n",
              "      <td>81</td>\n",
              "    </tr>\n",
              "    <tr>\n",
              "      <th>2</th>\n",
              "      <td>489434</td>\n",
              "      <td>79323W</td>\n",
              "      <td>WHITE CHERRY LIGHTS</td>\n",
              "      <td>12</td>\n",
              "      <td>2009-12-01 07:45:00</td>\n",
              "      <td>7</td>\n",
              "      <td>13085</td>\n",
              "      <td>United Kingdom</td>\n",
              "      <td>81</td>\n",
              "    </tr>\n",
              "    <tr>\n",
              "      <th>3</th>\n",
              "      <td>489434</td>\n",
              "      <td>22041</td>\n",
              "      <td>RECORD FRAME 7\" SINGLE SIZE</td>\n",
              "      <td>48</td>\n",
              "      <td>2009-12-01 07:45:00</td>\n",
              "      <td>2</td>\n",
              "      <td>13085</td>\n",
              "      <td>United Kingdom</td>\n",
              "      <td>101</td>\n",
              "    </tr>\n",
              "    <tr>\n",
              "      <th>4</th>\n",
              "      <td>489434</td>\n",
              "      <td>21232</td>\n",
              "      <td>STRAWBERRY CERAMIC TRINKET BOX</td>\n",
              "      <td>24</td>\n",
              "      <td>2009-12-01 07:45:00</td>\n",
              "      <td>1</td>\n",
              "      <td>13085</td>\n",
              "      <td>United Kingdom</td>\n",
              "      <td>30</td>\n",
              "    </tr>\n",
              "  </tbody>\n",
              "</table>\n",
              "</div>"
            ],
            "text/plain": [
              "  Invoice StockCode                          Description  Quantity  \\\n",
              "0  489434     85048  15CM CHRISTMAS GLASS BALL 20 LIGHTS        12   \n",
              "1  489434    79323P                   PINK CHERRY LIGHTS        12   \n",
              "2  489434    79323W                  WHITE CHERRY LIGHTS        12   \n",
              "3  489434     22041         RECORD FRAME 7\" SINGLE SIZE         48   \n",
              "4  489434     21232       STRAWBERRY CERAMIC TRINKET BOX        24   \n",
              "\n",
              "          InvoiceDate  Price  Customer ID         Country  TotalPrice  \n",
              "0 2009-12-01 07:45:00      7        13085  United Kingdom          83  \n",
              "1 2009-12-01 07:45:00      7        13085  United Kingdom          81  \n",
              "2 2009-12-01 07:45:00      7        13085  United Kingdom          81  \n",
              "3 2009-12-01 07:45:00      2        13085  United Kingdom         101  \n",
              "4 2009-12-01 07:45:00      1        13085  United Kingdom          30  "
            ]
          },
          "metadata": {
            "tags": []
          },
          "execution_count": 62
        }
      ]
    },
    {
      "cell_type": "code",
      "metadata": {
        "trusted": true,
        "id": "fNnEaoY0w-eX",
        "colab": {
          "base_uri": "https://localhost:8080/",
          "height": 0
        },
        "outputId": "277baf9f-d9a8-4542-defd-8a19e0d2718d"
      },
      "source": [
        "df.info() \n",
        "#dataframe's index dtype and column dtypes, non-null values and memory usage information"
      ],
      "execution_count": 63,
      "outputs": [
        {
          "output_type": "stream",
          "text": [
            "<class 'pandas.core.frame.DataFrame'>\n",
            "Int64Index: 805549 entries, 0 to 1067370\n",
            "Data columns (total 9 columns):\n",
            " #   Column       Non-Null Count   Dtype         \n",
            "---  ------       --------------   -----         \n",
            " 0   Invoice      805549 non-null  object        \n",
            " 1   StockCode    805549 non-null  object        \n",
            " 2   Description  805549 non-null  object        \n",
            " 3   Quantity     805549 non-null  int64         \n",
            " 4   InvoiceDate  805549 non-null  datetime64[ns]\n",
            " 5   Price        805549 non-null  float64       \n",
            " 6   Customer ID  805549 non-null  float64       \n",
            " 7   Country      805549 non-null  object        \n",
            " 8   TotalPrice   805549 non-null  float64       \n",
            "dtypes: datetime64[ns](1), float64(3), int64(1), object(4)\n",
            "memory usage: 61.5+ MB\n"
          ],
          "name": "stdout"
        }
      ]
    },
    {
      "cell_type": "code",
      "metadata": {
        "trusted": true,
        "id": "YtY_Y1Qzw-eX"
      },
      "source": [
        "#finding Recency and Monetary values.\n",
        "df_x = df.groupby('Customer ID').agg({'TotalPrice': lambda x: x.sum(), #monetary value\n",
        "                                        'InvoiceDate': lambda x: (today - x.max()).days}) #recency value\n",
        "#x.max()).days; last shopping date of customers"
      ],
      "execution_count": 64,
      "outputs": []
    },
    {
      "cell_type": "code",
      "metadata": {
        "trusted": true,
        "id": "hWhnXwKRw-eX"
      },
      "source": [
        "df_y = df.groupby(['Customer ID','Invoice']).agg({'TotalPrice': lambda x: x.sum()})\n",
        "df_z = df_y.groupby('Customer ID').agg({'TotalPrice': lambda x: len(x)}) \n",
        "#finding the frequency value per capita"
      ],
      "execution_count": 65,
      "outputs": []
    },
    {
      "cell_type": "code",
      "metadata": {
        "trusted": true,
        "id": "qCAmXQm2w-eX"
      },
      "source": [
        "#creating the RFM table\n",
        "rfm_table= pd.merge(df_x,df_z, on='Customer ID')"
      ],
      "execution_count": 66,
      "outputs": []
    },
    {
      "cell_type": "code",
      "metadata": {
        "trusted": true,
        "id": "kSWVgNiCw-eY"
      },
      "source": [
        "#determination of column names\n",
        "rfm_table.rename(columns= {'InvoiceDate': 'Recency',\n",
        "                          'TotalPrice_y': 'Frequency',\n",
        "                          'TotalPrice_x': 'Monetary'}, inplace= True)"
      ],
      "execution_count": 67,
      "outputs": []
    },
    {
      "cell_type": "code",
      "metadata": {
        "trusted": true,
        "id": "vO4BH_Dfw-eY",
        "colab": {
          "base_uri": "https://localhost:8080/",
          "height": 235
        },
        "outputId": "ad69b6c4-fe3f-4684-b194-dd8cd464598e"
      },
      "source": [
        "rfm_table.head()"
      ],
      "execution_count": 68,
      "outputs": [
        {
          "output_type": "execute_result",
          "data": {
            "text/html": [
              "<div>\n",
              "<style scoped>\n",
              "    .dataframe tbody tr th:only-of-type {\n",
              "        vertical-align: middle;\n",
              "    }\n",
              "\n",
              "    .dataframe tbody tr th {\n",
              "        vertical-align: top;\n",
              "    }\n",
              "\n",
              "    .dataframe thead th {\n",
              "        text-align: right;\n",
              "    }\n",
              "</style>\n",
              "<table border=\"1\" class=\"dataframe\">\n",
              "  <thead>\n",
              "    <tr style=\"text-align: right;\">\n",
              "      <th></th>\n",
              "      <th>Monetary</th>\n",
              "      <th>Recency</th>\n",
              "      <th>Frequency</th>\n",
              "    </tr>\n",
              "    <tr>\n",
              "      <th>Customer ID</th>\n",
              "      <th></th>\n",
              "      <th></th>\n",
              "      <th></th>\n",
              "    </tr>\n",
              "  </thead>\n",
              "  <tbody>\n",
              "    <tr>\n",
              "      <th>12346</th>\n",
              "      <td>77556</td>\n",
              "      <td>347</td>\n",
              "      <td>12</td>\n",
              "    </tr>\n",
              "    <tr>\n",
              "      <th>12347</th>\n",
              "      <td>5633</td>\n",
              "      <td>24</td>\n",
              "      <td>8</td>\n",
              "    </tr>\n",
              "    <tr>\n",
              "      <th>12348</th>\n",
              "      <td>2019</td>\n",
              "      <td>97</td>\n",
              "      <td>5</td>\n",
              "    </tr>\n",
              "    <tr>\n",
              "      <th>12349</th>\n",
              "      <td>4429</td>\n",
              "      <td>40</td>\n",
              "      <td>4</td>\n",
              "    </tr>\n",
              "    <tr>\n",
              "      <th>12350</th>\n",
              "      <td>334</td>\n",
              "      <td>332</td>\n",
              "      <td>1</td>\n",
              "    </tr>\n",
              "  </tbody>\n",
              "</table>\n",
              "</div>"
            ],
            "text/plain": [
              "             Monetary  Recency  Frequency\n",
              "Customer ID                              \n",
              "12346           77556      347         12\n",
              "12347            5633       24          8\n",
              "12348            2019       97          5\n",
              "12349            4429       40          4\n",
              "12350             334      332          1"
            ]
          },
          "metadata": {
            "tags": []
          },
          "execution_count": 68
        }
      ]
    },
    {
      "cell_type": "markdown",
      "metadata": {
        "id": "Y-0P8SAFw-eY"
      },
      "source": [
        "# K-Means Segmentation"
      ]
    },
    {
      "cell_type": "markdown",
      "metadata": {
        "id": "IyIraqr8w-eZ"
      },
      "source": [
        "It is one of the unsupervised learning algorithms. The process is to separate the data according to its specific features and to reveal its characteristic features. Purpose is minimizing the sum of distance between points and maximizing the distance between clusters. This process is clustering.\n",
        "\n",
        "Where is clustering used?\n",
        "\n",
        "    - Clustering of products according to the customer groups who bought them\n",
        "    - Clustering of documents, web searches according to similar words used\n",
        "    - Customer segmentation\n",
        "    - Grouping similar genes in the field of bioinformatics \n",
        "    \n",
        "The K-means algorithm is a non-hierarchical, center-based algorithm.\n",
        "\n",
        "K-means Clustering working principle;\n",
        "\n",
        "This process continues until the average distance within a cluster minimizes and maximizes the distance with other clusters. The process begins with the random selection of k centers. The average distance from the center of all points in the cluster is then used to update the position of the centroids (centers). These steps are repeated by fixing the values of the centroids (centers).\n",
        "\n",
        "This process continues until the average distance within a cluster minimizes and maximizes the distance with other clusters.\n",
        "\n",
        "Our aim is to minimize the sum of distances within the cluster and to maximize the sum of distances between clusters. In other words, forming clusters that are more discrete from each other.\n",
        "\n",
        "Two metrics can be used here.\n",
        "\n",
        "   - Inertia: shows how far points in a cluster are. Therefore, a small inertia is targeted. Inertia value starts at zero and increases. (min SSE)\n",
        "    \n",
        "   - Silhoutte Score: shows how far data points in one cluster are from data points in another cluster. The score range is between -1 and 1, and it is expected to approach 1.\n",
        "    \n",
        "Inertia was used in this study.\n",
        "\n",
        "In this study, we will segment the rfm metrics that we previously determined with k-means. We cannot apply the cluster operation to our data set in this state. We need numerical variables to do this. These variables are currently not available. We will apply cluster operation over rfm metric values with k-means."
      ]
    },
    {
      "cell_type": "markdown",
      "metadata": {
        "id": "fmmsCWYww-ea"
      },
      "source": [
        "## Visualization of Recency, Frequency and Monetary Values"
      ]
    },
    {
      "cell_type": "code",
      "metadata": {
        "trusted": true,
        "id": "bSGPMsWDw-ea",
        "colab": {
          "base_uri": "https://localhost:8080/",
          "height": 0
        },
        "outputId": "cb11c13a-e085-4a1a-b859-94ad0576fe6d"
      },
      "source": [
        "#descriptive statistics for Recency\n",
        "rfm_table.Recency.describe()"
      ],
      "execution_count": 69,
      "outputs": [
        {
          "output_type": "execute_result",
          "data": {
            "text/plain": [
              "count   5878\n",
              "mean     223\n",
              "std      209\n",
              "min       22\n",
              "25%       47\n",
              "50%      117\n",
              "75%      401\n",
              "max      760\n",
              "Name: Recency, dtype: float64"
            ]
          },
          "metadata": {
            "tags": []
          },
          "execution_count": 69
        }
      ]
    },
    {
      "cell_type": "code",
      "metadata": {
        "trusted": true,
        "id": "RVDEp25kw-eb",
        "colab": {
          "base_uri": "https://localhost:8080/",
          "height": 333
        },
        "outputId": "3d4d611b-bf49-4212-d047-8107e56c2fcd"
      },
      "source": [
        "#Recency distribution plot\n",
        "import seaborn as sns\n",
        "x = rfm_table['Recency']\n",
        "\n",
        "ax = sns.distplot(x)"
      ],
      "execution_count": 70,
      "outputs": [
        {
          "output_type": "stream",
          "text": [
            "/usr/local/lib/python3.7/dist-packages/seaborn/distributions.py:2557: FutureWarning: `distplot` is a deprecated function and will be removed in a future version. Please adapt your code to use either `displot` (a figure-level function with similar flexibility) or `histplot` (an axes-level function for histograms).\n",
            "  warnings.warn(msg, FutureWarning)\n"
          ],
          "name": "stderr"
        },
        {
          "output_type": "display_data",
          "data": {
            "image/png": "[encoded data removed]",
            "text/plain": [
              "<Figure size 432x288 with 1 Axes>"
            ]
          },
          "metadata": {
            "tags": [],
            "needs_background": "light"
          }
        }
      ]
    },
    {
      "cell_type": "code",
      "metadata": {
        "trusted": true,
        "id": "pAPt1vNBw-eb",
        "colab": {
          "base_uri": "https://localhost:8080/",
          "height": 0
        },
        "outputId": "4d41f862-3acd-4e60-9b83-9521719608aa"
      },
      "source": [
        "#descriptive statistics for Frequency\n",
        "rfm_table.Frequency.describe()"
      ],
      "execution_count": 71,
      "outputs": [
        {
          "output_type": "execute_result",
          "data": {
            "text/plain": [
              "count   5878\n",
              "mean       6\n",
              "std       13\n",
              "min        1\n",
              "25%        1\n",
              "50%        3\n",
              "75%        7\n",
              "max      398\n",
              "Name: Frequency, dtype: float64"
            ]
          },
          "metadata": {
            "tags": []
          },
          "execution_count": 71
        }
      ]
    },
    {
      "cell_type": "code",
      "metadata": {
        "trusted": true,
        "id": "MkfguMGpw-eb",
        "colab": {
          "base_uri": "https://localhost:8080/",
          "height": 333
        },
        "outputId": "bd83811f-11aa-4fa7-e4b7-f6cd754a42ab"
      },
      "source": [
        "#Frequency distribution plot, taking observations which have frequency less than 1000\n",
        "import seaborn as sns\n",
        "x = rfm_table.query('Frequency < 1000')['Frequency']\n",
        "\n",
        "ax = sns.distplot(x)"
      ],
      "execution_count": 72,
      "outputs": [
        {
          "output_type": "stream",
          "text": [
            "/usr/local/lib/python3.7/dist-packages/seaborn/distributions.py:2557: FutureWarning: `distplot` is a deprecated function and will be removed in a future version. Please adapt your code to use either `displot` (a figure-level function with similar flexibility) or `histplot` (an axes-level function for histograms).\n",
            "  warnings.warn(msg, FutureWarning)\n"
          ],
          "name": "stderr"
        },
        {
          "output_type": "display_data",
          "data": {
            "image/png": "[encoded data removed]",
            "text/plain": [
              "<Figure size 432x288 with 1 Axes>"
            ]
          },
          "metadata": {
            "tags": [],
            "needs_background": "light"
          }
        }
      ]
    },
    {
      "cell_type": "code",
      "metadata": {
        "trusted": true,
        "id": "m7VEw9cYw-eb",
        "colab": {
          "base_uri": "https://localhost:8080/",
          "height": 0
        },
        "outputId": "b966a230-a6bd-4029-a8dd-509dde1baaec"
      },
      "source": [
        "#descriptive statistics for Monetary\n",
        "rfm_table.Monetary.describe()"
      ],
      "execution_count": 73,
      "outputs": [
        {
          "output_type": "execute_result",
          "data": {
            "text/plain": [
              "count     5878\n",
              "mean      3019\n",
              "std      14738\n",
              "min          3\n",
              "25%        349\n",
              "50%        899\n",
              "75%       2307\n",
              "max     608822\n",
              "Name: Monetary, dtype: float64"
            ]
          },
          "metadata": {
            "tags": []
          },
          "execution_count": 73
        }
      ]
    },
    {
      "cell_type": "code",
      "metadata": {
        "trusted": true,
        "id": "vuJAOkapw-ec",
        "colab": {
          "base_uri": "https://localhost:8080/",
          "height": 333
        },
        "outputId": "b0f1161d-cd70-4fcf-9999-d8d54ebb12e4"
      },
      "source": [
        "#Monateray distribution plot, taking observations which have monetary value less than 10000\n",
        "import seaborn as sns\n",
        "x = rfm_table.query('Monetary < 10000')['Monetary']\n",
        "\n",
        "ax = sns.distplot(x)"
      ],
      "execution_count": 74,
      "outputs": [
        {
          "output_type": "stream",
          "text": [
            "/usr/local/lib/python3.7/dist-packages/seaborn/distributions.py:2557: FutureWarning: `distplot` is a deprecated function and will be removed in a future version. Please adapt your code to use either `displot` (a figure-level function with similar flexibility) or `histplot` (an axes-level function for histograms).\n",
            "  warnings.warn(msg, FutureWarning)\n"
          ],
          "name": "stderr"
        },
        {
          "output_type": "display_data",
          "data": {
            "image/png": "[encoded data removed]",
            "text/plain": [
              "<Figure size 432x288 with 1 Axes>"
            ]
          },
          "metadata": {
            "tags": [],
            "needs_background": "light"
          }
        }
      ]
    },
    {
      "cell_type": "code",
      "metadata": {
        "trusted": true,
        "id": "Fv3AaU8tw-ec"
      },
      "source": [
        "#Split into four segments using quantiles\n",
        "quantiles = rfm_table.quantile(q=[0.25,0.5,0.75])\n",
        "quantiles = quantiles.to_dict()"
      ],
      "execution_count": 75,
      "outputs": []
    },
    {
      "cell_type": "code",
      "metadata": {
        "trusted": true,
        "id": "hrJKrPHpw-ec",
        "colab": {
          "base_uri": "https://localhost:8080/",
          "height": 0
        },
        "outputId": "17d0c16a-42d1-4804-b8ec-2cd9178143b5"
      },
      "source": [
        "quantiles"
      ],
      "execution_count": 76,
      "outputs": [
        {
          "output_type": "execute_result",
          "data": {
            "text/plain": [
              "{'Frequency': {0.25: 1.0, 0.5: 3.0, 0.75: 7.0},\n",
              " 'Monetary': {0.25: 348.76249999999993, 0.5: 898.915, 0.75: 2307.09},\n",
              " 'Recency': {0.25: 47.0, 0.5: 117.0, 0.75: 401.0}}"
            ]
          },
          "metadata": {
            "tags": []
          },
          "execution_count": 76
        }
      ]
    },
    {
      "cell_type": "code",
      "metadata": {
        "trusted": true,
        "id": "TDvuC5_aw-ed"
      },
      "source": [
        "#conversion process\n",
        "from sklearn.preprocessing import MinMaxScaler\n",
        "min_max_scaler = MinMaxScaler((0,1))\n",
        "x_scaled = min_max_scaler.fit_transform(rfm_table)\n",
        "data_scaled = pd.DataFrame(x_scaled)"
      ],
      "execution_count": 77,
      "outputs": []
    },
    {
      "cell_type": "code",
      "metadata": {
        "trusted": true,
        "id": "pI9YQA8yw-ed",
        "colab": {
          "base_uri": "https://localhost:8080/",
          "height": 546
        },
        "outputId": "7dbe5d49-065f-474d-a140-1b10f402d2fe"
      },
      "source": [
        "df[0:10]"
      ],
      "execution_count": 78,
      "outputs": [
        {
          "output_type": "execute_result",
          "data": {
            "text/html": [
              "<div>\n",
              "<style scoped>\n",
              "    .dataframe tbody tr th:only-of-type {\n",
              "        vertical-align: middle;\n",
              "    }\n",
              "\n",
              "    .dataframe tbody tr th {\n",
              "        vertical-align: top;\n",
              "    }\n",
              "\n",
              "    .dataframe thead th {\n",
              "        text-align: right;\n",
              "    }\n",
              "</style>\n",
              "<table border=\"1\" class=\"dataframe\">\n",
              "  <thead>\n",
              "    <tr style=\"text-align: right;\">\n",
              "      <th></th>\n",
              "      <th>Invoice</th>\n",
              "      <th>StockCode</th>\n",
              "      <th>Description</th>\n",
              "      <th>Quantity</th>\n",
              "      <th>InvoiceDate</th>\n",
              "      <th>Price</th>\n",
              "      <th>Customer ID</th>\n",
              "      <th>Country</th>\n",
              "      <th>TotalPrice</th>\n",
              "    </tr>\n",
              "  </thead>\n",
              "  <tbody>\n",
              "    <tr>\n",
              "      <th>0</th>\n",
              "      <td>489434</td>\n",
              "      <td>85048</td>\n",
              "      <td>15CM CHRISTMAS GLASS BALL 20 LIGHTS</td>\n",
              "      <td>12</td>\n",
              "      <td>2009-12-01 07:45:00</td>\n",
              "      <td>7</td>\n",
              "      <td>13085</td>\n",
              "      <td>United Kingdom</td>\n",
              "      <td>83</td>\n",
              "    </tr>\n",
              "    <tr>\n",
              "      <th>1</th>\n",
              "      <td>489434</td>\n",
              "      <td>79323P</td>\n",
              "      <td>PINK CHERRY LIGHTS</td>\n",
              "      <td>12</td>\n",
              "      <td>2009-12-01 07:45:00</td>\n",
              "      <td>7</td>\n",
              "      <td>13085</td>\n",
              "      <td>United Kingdom</td>\n",
              "      <td>81</td>\n",
              "    </tr>\n",
              "    <tr>\n",
              "      <th>2</th>\n",
              "      <td>489434</td>\n",
              "      <td>79323W</td>\n",
              "      <td>WHITE CHERRY LIGHTS</td>\n",
              "      <td>12</td>\n",
              "      <td>2009-12-01 07:45:00</td>\n",
              "      <td>7</td>\n",
              "      <td>13085</td>\n",
              "      <td>United Kingdom</td>\n",
              "      <td>81</td>\n",
              "    </tr>\n",
              "    <tr>\n",
              "      <th>3</th>\n",
              "      <td>489434</td>\n",
              "      <td>22041</td>\n",
              "      <td>RECORD FRAME 7\" SINGLE SIZE</td>\n",
              "      <td>48</td>\n",
              "      <td>2009-12-01 07:45:00</td>\n",
              "      <td>2</td>\n",
              "      <td>13085</td>\n",
              "      <td>United Kingdom</td>\n",
              "      <td>101</td>\n",
              "    </tr>\n",
              "    <tr>\n",
              "      <th>4</th>\n",
              "      <td>489434</td>\n",
              "      <td>21232</td>\n",
              "      <td>STRAWBERRY CERAMIC TRINKET BOX</td>\n",
              "      <td>24</td>\n",
              "      <td>2009-12-01 07:45:00</td>\n",
              "      <td>1</td>\n",
              "      <td>13085</td>\n",
              "      <td>United Kingdom</td>\n",
              "      <td>30</td>\n",
              "    </tr>\n",
              "    <tr>\n",
              "      <th>5</th>\n",
              "      <td>489434</td>\n",
              "      <td>22064</td>\n",
              "      <td>PINK DOUGHNUT TRINKET POT</td>\n",
              "      <td>24</td>\n",
              "      <td>2009-12-01 07:45:00</td>\n",
              "      <td>2</td>\n",
              "      <td>13085</td>\n",
              "      <td>United Kingdom</td>\n",
              "      <td>40</td>\n",
              "    </tr>\n",
              "    <tr>\n",
              "      <th>6</th>\n",
              "      <td>489434</td>\n",
              "      <td>21871</td>\n",
              "      <td>SAVE THE PLANET MUG</td>\n",
              "      <td>24</td>\n",
              "      <td>2009-12-01 07:45:00</td>\n",
              "      <td>1</td>\n",
              "      <td>13085</td>\n",
              "      <td>United Kingdom</td>\n",
              "      <td>30</td>\n",
              "    </tr>\n",
              "    <tr>\n",
              "      <th>7</th>\n",
              "      <td>489434</td>\n",
              "      <td>21523</td>\n",
              "      <td>FANCY FONT HOME SWEET HOME DOORMAT</td>\n",
              "      <td>10</td>\n",
              "      <td>2009-12-01 07:45:00</td>\n",
              "      <td>6</td>\n",
              "      <td>13085</td>\n",
              "      <td>United Kingdom</td>\n",
              "      <td>60</td>\n",
              "    </tr>\n",
              "    <tr>\n",
              "      <th>8</th>\n",
              "      <td>489435</td>\n",
              "      <td>22350</td>\n",
              "      <td>CAT BOWL</td>\n",
              "      <td>12</td>\n",
              "      <td>2009-12-01 07:46:00</td>\n",
              "      <td>3</td>\n",
              "      <td>13085</td>\n",
              "      <td>United Kingdom</td>\n",
              "      <td>31</td>\n",
              "    </tr>\n",
              "    <tr>\n",
              "      <th>9</th>\n",
              "      <td>489435</td>\n",
              "      <td>22349</td>\n",
              "      <td>DOG BOWL , CHASING BALL DESIGN</td>\n",
              "      <td>12</td>\n",
              "      <td>2009-12-01 07:46:00</td>\n",
              "      <td>4</td>\n",
              "      <td>13085</td>\n",
              "      <td>United Kingdom</td>\n",
              "      <td>45</td>\n",
              "    </tr>\n",
              "  </tbody>\n",
              "</table>\n",
              "</div>"
            ],
            "text/plain": [
              "  Invoice StockCode                          Description  Quantity  \\\n",
              "0  489434     85048  15CM CHRISTMAS GLASS BALL 20 LIGHTS        12   \n",
              "1  489434    79323P                   PINK CHERRY LIGHTS        12   \n",
              "2  489434    79323W                  WHITE CHERRY LIGHTS        12   \n",
              "3  489434     22041         RECORD FRAME 7\" SINGLE SIZE         48   \n",
              "4  489434     21232       STRAWBERRY CERAMIC TRINKET BOX        24   \n",
              "5  489434     22064           PINK DOUGHNUT TRINKET POT         24   \n",
              "6  489434     21871                  SAVE THE PLANET MUG        24   \n",
              "7  489434     21523   FANCY FONT HOME SWEET HOME DOORMAT        10   \n",
              "8  489435     22350                            CAT BOWL         12   \n",
              "9  489435     22349       DOG BOWL , CHASING BALL DESIGN        12   \n",
              "\n",
              "          InvoiceDate  Price  Customer ID         Country  TotalPrice  \n",
              "0 2009-12-01 07:45:00      7        13085  United Kingdom          83  \n",
              "1 2009-12-01 07:45:00      7        13085  United Kingdom          81  \n",
              "2 2009-12-01 07:45:00      7        13085  United Kingdom          81  \n",
              "3 2009-12-01 07:45:00      2        13085  United Kingdom         101  \n",
              "4 2009-12-01 07:45:00      1        13085  United Kingdom          30  \n",
              "5 2009-12-01 07:45:00      2        13085  United Kingdom          40  \n",
              "6 2009-12-01 07:45:00      1        13085  United Kingdom          30  \n",
              "7 2009-12-01 07:45:00      6        13085  United Kingdom          60  \n",
              "8 2009-12-01 07:46:00      3        13085  United Kingdom          31  \n",
              "9 2009-12-01 07:46:00      4        13085  United Kingdom          45  "
            ]
          },
          "metadata": {
            "tags": []
          },
          "execution_count": 78
        }
      ]
    },
    {
      "cell_type": "code",
      "metadata": {
        "trusted": true,
        "id": "YJWCXFWLw-ed",
        "colab": {
          "base_uri": "https://localhost:8080/",
          "height": 404
        },
        "outputId": "3c117fb5-b37e-4814-a4c6-b0fd4b40f2bb"
      },
      "source": [
        "plt.figure(figsize=(8,6))\n",
        "wcss = []\n",
        "for i in range(1, 11):\n",
        "    kmeans = KMeans(n_clusters = i, init = 'k-means++',n_init=10, max_iter = 300)\n",
        "    kmeans.fit(data_scaled)\n",
        "    wcss.append(kmeans.inertia_)\n",
        "plt.plot(range(1, 11), wcss)\n",
        "plt.title('The Elbow Method')\n",
        "plt.xlabel('Number of clusters')\n",
        "plt.ylabel('WCSS')\n",
        "plt.show()"
      ],
      "execution_count": 79,
      "outputs": [
        {
          "output_type": "display_data",
          "data": {
            "image/png": "[encoded data removed]",
            "text/plain": [
              "<Figure size 576x432 with 1 Axes>"
            ]
          },
          "metadata": {
            "tags": [],
            "needs_background": "light"
          }
        }
      ]
    },
    {
      "cell_type": "markdown",
      "metadata": {
        "id": "zDzxuNjQw-ee"
      },
      "source": [
        "The important thing here is to determine the correct number of clusters. For this, we apply the Elbow Method.\n",
        "\n",
        "Here, as the number of clusters increases, we use the part we call elbow and see that the value does not decrease too much after a certain point. For this reason, using 3 or 4 may be more valuable for us."
      ]
    },
    {
      "cell_type": "code",
      "metadata": {
        "trusted": true,
        "id": "1JElNvxaw-ee"
      },
      "source": [
        "kmeans = KMeans(n_clusters = 4, init='k-means++', n_init =10,max_iter = 300)\n",
        "kmeans.fit(data_scaled)\n",
        "cluster = kmeans.predict(data_scaled)\n",
        "#init = 'k-means ++' this makes it work faster"
      ],
      "execution_count": 80,
      "outputs": []
    },
    {
      "cell_type": "code",
      "metadata": {
        "trusted": true,
        "id": "82tFALyQw-ef",
        "colab": {
          "base_uri": "https://localhost:8080/",
          "height": 0
        },
        "outputId": "65bdb83c-c54f-4291-adf9-7d79e565c561"
      },
      "source": [
        "d_frame = pd.DataFrame(rfm_table)\n",
        "d_frame['cluster_no'] = cluster\n",
        "d_frame['cluster_no'].value_counts() #the number of people per cluster (Custer ID number)"
      ],
      "execution_count": 81,
      "outputs": [
        {
          "output_type": "execute_result",
          "data": {
            "text/plain": [
              "1    3144\n",
              "0    1110\n",
              "3     987\n",
              "2     637\n",
              "Name: cluster_no, dtype: int64"
            ]
          },
          "metadata": {
            "tags": []
          },
          "execution_count": 81
        }
      ]
    },
    {
      "cell_type": "code",
      "metadata": {
        "trusted": true,
        "id": "_PqWlPbEw-eg",
        "colab": {
          "base_uri": "https://localhost:8080/",
          "height": 235
        },
        "outputId": "2d55217c-8dbd-45f7-f0c6-a68acab1096b"
      },
      "source": [
        "#RFM Table\n",
        "rfm_table.head()"
      ],
      "execution_count": 82,
      "outputs": [
        {
          "output_type": "execute_result",
          "data": {
            "text/html": [
              "<div>\n",
              "<style scoped>\n",
              "    .dataframe tbody tr th:only-of-type {\n",
              "        vertical-align: middle;\n",
              "    }\n",
              "\n",
              "    .dataframe tbody tr th {\n",
              "        vertical-align: top;\n",
              "    }\n",
              "\n",
              "    .dataframe thead th {\n",
              "        text-align: right;\n",
              "    }\n",
              "</style>\n",
              "<table border=\"1\" class=\"dataframe\">\n",
              "  <thead>\n",
              "    <tr style=\"text-align: right;\">\n",
              "      <th></th>\n",
              "      <th>Monetary</th>\n",
              "      <th>Recency</th>\n",
              "      <th>Frequency</th>\n",
              "      <th>cluster_no</th>\n",
              "    </tr>\n",
              "    <tr>\n",
              "      <th>Customer ID</th>\n",
              "      <th></th>\n",
              "      <th></th>\n",
              "      <th></th>\n",
              "      <th></th>\n",
              "    </tr>\n",
              "  </thead>\n",
              "  <tbody>\n",
              "    <tr>\n",
              "      <th>12346</th>\n",
              "      <td>77556</td>\n",
              "      <td>347</td>\n",
              "      <td>12</td>\n",
              "      <td>0</td>\n",
              "    </tr>\n",
              "    <tr>\n",
              "      <th>12347</th>\n",
              "      <td>5633</td>\n",
              "      <td>24</td>\n",
              "      <td>8</td>\n",
              "      <td>1</td>\n",
              "    </tr>\n",
              "    <tr>\n",
              "      <th>12348</th>\n",
              "      <td>2019</td>\n",
              "      <td>97</td>\n",
              "      <td>5</td>\n",
              "      <td>1</td>\n",
              "    </tr>\n",
              "    <tr>\n",
              "      <th>12349</th>\n",
              "      <td>4429</td>\n",
              "      <td>40</td>\n",
              "      <td>4</td>\n",
              "      <td>1</td>\n",
              "    </tr>\n",
              "    <tr>\n",
              "      <th>12350</th>\n",
              "      <td>334</td>\n",
              "      <td>332</td>\n",
              "      <td>1</td>\n",
              "      <td>3</td>\n",
              "    </tr>\n",
              "  </tbody>\n",
              "</table>\n",
              "</div>"
            ],
            "text/plain": [
              "             Monetary  Recency  Frequency  cluster_no\n",
              "Customer ID                                          \n",
              "12346           77556      347         12           0\n",
              "12347            5633       24          8           1\n",
              "12348            2019       97          5           1\n",
              "12349            4429       40          4           1\n",
              "12350             334      332          1           3"
            ]
          },
          "metadata": {
            "tags": []
          },
          "execution_count": 82
        }
      ]
    },
    {
      "cell_type": "code",
      "metadata": {
        "trusted": true,
        "id": "XoFpj-z3w-eg",
        "colab": {
          "base_uri": "https://localhost:8080/",
          "height": 204
        },
        "outputId": "6276e022-9a38-4187-ce06-246dd9d4ce5d"
      },
      "source": [
        "#cluster average values\n",
        "d_frame.groupby('cluster_no').mean() "
      ],
      "execution_count": 83,
      "outputs": [
        {
          "output_type": "execute_result",
          "data": {
            "text/html": [
              "<div>\n",
              "<style scoped>\n",
              "    .dataframe tbody tr th:only-of-type {\n",
              "        vertical-align: middle;\n",
              "    }\n",
              "\n",
              "    .dataframe tbody tr th {\n",
              "        vertical-align: top;\n",
              "    }\n",
              "\n",
              "    .dataframe thead th {\n",
              "        text-align: right;\n",
              "    }\n",
              "</style>\n",
              "<table border=\"1\" class=\"dataframe\">\n",
              "  <thead>\n",
              "    <tr style=\"text-align: right;\">\n",
              "      <th></th>\n",
              "      <th>Monetary</th>\n",
              "      <th>Recency</th>\n",
              "      <th>Frequency</th>\n",
              "    </tr>\n",
              "    <tr>\n",
              "      <th>cluster_no</th>\n",
              "      <th></th>\n",
              "      <th></th>\n",
              "      <th></th>\n",
              "    </tr>\n",
              "  </thead>\n",
              "  <tbody>\n",
              "    <tr>\n",
              "      <th>0</th>\n",
              "      <td>1029</td>\n",
              "      <td>434</td>\n",
              "      <td>3</td>\n",
              "    </tr>\n",
              "    <tr>\n",
              "      <th>1</th>\n",
              "      <td>4710</td>\n",
              "      <td>59</td>\n",
              "      <td>9</td>\n",
              "    </tr>\n",
              "    <tr>\n",
              "      <th>2</th>\n",
              "      <td>619</td>\n",
              "      <td>644</td>\n",
              "      <td>2</td>\n",
              "    </tr>\n",
              "    <tr>\n",
              "      <th>3</th>\n",
              "      <td>1418</td>\n",
              "      <td>234</td>\n",
              "      <td>4</td>\n",
              "    </tr>\n",
              "  </tbody>\n",
              "</table>\n",
              "</div>"
            ],
            "text/plain": [
              "            Monetary  Recency  Frequency\n",
              "cluster_no                              \n",
              "0               1029      434          3\n",
              "1               4710       59          9\n",
              "2                619      644          2\n",
              "3               1418      234          4"
            ]
          },
          "metadata": {
            "tags": []
          },
          "execution_count": 83
        }
      ]
    },
    {
      "cell_type": "markdown",
      "metadata": {
        "id": "aUNtP9-Zw-eg"
      },
      "source": [
        "# Conclusion"
      ]
    },
    {
      "cell_type": "markdown",
      "metadata": {
        "id": "awoFUHurw-eg"
      },
      "source": [
        "We have singularized Customer IDs based on 3 variables over rfm metrics.\n",
        "\n",
        "This data set was reduced to 4 sets on the basis of numerical variables when k-means was applied."
      ]
    },
    {
      "cell_type": "markdown",
      "metadata": {
        "id": "451gRpP6w-eh"
      },
      "source": [
        "# Resources\n",
        "\n",
        "\n",
        "https://www.youtube.com/watch?v=DowbzgtH0-0\n",
        "\n",
        "https://www.youtube.com/watch?v=fdUofaT8gUw\n",
        "\n"
      ]
    },
    {
      "cell_type": "code",
      "metadata": {
        "id": "vAK7mrBH08Hq"
      },
      "source": [
        ""
      ],
      "execution_count": null,
      "outputs": []
    }
  ]
}